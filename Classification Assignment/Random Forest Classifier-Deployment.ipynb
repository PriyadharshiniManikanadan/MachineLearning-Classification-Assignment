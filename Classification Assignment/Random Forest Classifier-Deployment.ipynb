{
 "cells": [
  {
   "cell_type": "markdown",
   "id": "8ff89ee4-ebe4-496b-8718-bc19c388b69d",
   "metadata": {},
   "source": [
    "## Deployment - Random Forest Classifier"
   ]
  },
  {
   "cell_type": "code",
   "execution_count": 2,
   "id": "efa66a0b-953b-4564-b86b-2250dc6951dc",
   "metadata": {},
   "outputs": [],
   "source": [
    "import pickle\n",
    "with open('Final_RandomForest_Model.pkl','rb') as file:\n",
    " Classifier,SC = pickle.load(file)"
   ]
  },
  {
   "cell_type": "markdown",
   "id": "16c458e3-0777-4170-a9c1-8958a4980c61",
   "metadata": {},
   "source": [
    "### Get the User Input"
   ]
  },
  {
   "cell_type": "code",
   "execution_count": 5,
   "id": "1a4e80c5-cacf-4040-912a-7210f7300d79",
   "metadata": {},
   "outputs": [
    {
     "name": "stdin",
     "output_type": "stream",
     "text": [
      "Age:  32\n",
      "Blood Pressure:  140\n",
      "Albumin Level(al) (1/2/3/4):  4\n",
      "Serum Creatinine(su):  3.0\n",
      "bgr:  150.25\n",
      "Blood Urea(bu):  115\n",
      "Serum Creatinine(sc):  0.6\n",
      "Sodium(sod):  152.2\n",
      "Pottasium(pot):  4.6\n",
      "hor:  12.5\n",
      "Packed Cell Volume(pcv):  27.3\n",
      "White Cells(wc):  8408\n",
      "Creatinine Clearance Test(rc):  4.75\n",
      "Urinary Specific Gravity(sg):  0.6\n",
      "Urinary Specific Gravity(sg):  2.1\n",
      "Urinary Specific Gravity(sg):  3.1\n",
      "Urinary Specific Gravity(sg):  2.6\n",
      "Red Blood Cell(rbc) - Abnormal 0 or 1:  1\n",
      "Protien Creatinine(pc) - Abnormal 0 or 1:  0\n",
      "pcc - Not present 0 or 1:  1\n",
      "ba - Not present 0 or 1:  0\n",
      "htn No 0 or 1   1\n",
      "dm: No 0 or 1 0\n",
      "cad: No 0 or 1 1\n",
      "appet: Poor 0 or 1  0\n",
      "pe: No 0 or 1 1\n",
      "ane: No 0 or 1 0\n"
     ]
    }
   ],
   "source": [
    "age_input=int(input(\"Age: \"))\n",
    "bp_input=int(input(\"Blood Pressure: \"))\n",
    "al_input=float(input(\"Albumin Level(al) (1/2/3/4): \"))\n",
    "su_input=input(\"Serum Creatinine(su): \")\n",
    "bgr_input=float(input(\"bgr: \"))\n",
    "bu_input=int(input(\"Blood Urea(bu): \"))\n",
    "sc_input=float(input(\"Serum Creatinine(sc): \"))\n",
    "sod_input=float(input(\"Sodium(sod): \"))\n",
    "pot_input=float(input(\"Pottasium(pot): \"))\n",
    "hrmo_input=float(input(\"hor: \"))\n",
    "pcv_input=float(input(\"Packed Cell Volume(pcv): \"))\n",
    "wc_input=int(input(\"White Cells(wc): \"))\n",
    "rc_input=float(input(\"Creatinine Clearance Test(rc): \"))\n",
    "sg_b_input=float(input(\"Urinary Specific Gravity(sg): \"))                                  \n",
    "sg_c_input=float(input(\"Urinary Specific Gravity(sg): \"))                                                 \n",
    "sg_d_input=float(input(\"Urinary Specific Gravity(sg): \"))\n",
    "sg_e_input=float(input(\"Urinary Specific Gravity(sg): \"))\n",
    "rbc_normal_input=int(input(\"Red Blood Cell(rbc) - Abnormal 0 or 1: \"))\n",
    "pc_normal_input=(input(\"Protien Creatinine(pc) - Abnormal 0 or 1: \"))\n",
    "pcc_present_input=int(input(\"pcc - Not present 0 or 1: \"))\n",
    "ba_present_input=int(input(\"ba - Not present 0 or 1: \"))\n",
    "htn_yesy_input=int(input(\"htn No 0 or 1  \"))\n",
    "dm_yes_input=int(input(\"dm: No 0 or 1\"))\n",
    "cad_yes_input=int(input(\"cad: No 0 or 1\"))\n",
    "appet_yes_input=int(input(\"appet: Poor 0 or 1 \"))\n",
    "pe_yes_input=int(input(\"pe: No 0 or 1\"))\n",
    "ane_yes_input=int(input(\"ane: No 0 or 1\"))"
   ]
  },
  {
   "cell_type": "markdown",
   "id": "92df37ab-fa56-4ef9-a434-588efde70faf",
   "metadata": {},
   "source": [
    "### Preprocess the User Input"
   ]
  },
  {
   "cell_type": "code",
   "execution_count": 6,
   "id": "925d03f2-e238-407e-9402-860cc38d633c",
   "metadata": {},
   "outputs": [
    {
     "data": {
      "text/plain": [
       "array([[0., 0., 0., 0., 0., 0., 0., 0., 0., 0., 0., 0., 0., 0., 0., 0.,\n",
       "        0., 0., 0., 0., 0., 0., 0., 0., 0., 0., 0.]])"
      ]
     },
     "execution_count": 6,
     "metadata": {},
     "output_type": "execute_result"
    }
   ],
   "source": [
    "User_input_prepro = SC.fit_transform([[age_input,bp_input,al_input,su_input,bgr_input,bu_input,sc_input,sod_input,pot_input,hrmo_input,pcv_input,wc_input,rc_input,sg_b_input,sg_c_input,sg_d_input,sg_e_input,rbc_normal_input,pc_normal_input,pcc_present_input,ba_present_input,htn_yesy_input,dm_yes_input,cad_yes_input,appet_yes_input,pe_yes_input,ane_yes_input]])\n",
    "User_input_prepro"
   ]
  },
  {
   "cell_type": "markdown",
   "id": "600185d1-22f1-4e41-944e-334f8246c5af",
   "metadata": {},
   "source": [
    "### Predictions"
   ]
  },
  {
   "cell_type": "code",
   "execution_count": 7,
   "id": "cffeb066-bc0a-4c34-acf3-bb1aa9b741ab",
   "metadata": {},
   "outputs": [
    {
     "data": {
      "text/plain": [
       "array([1])"
      ]
     },
     "execution_count": 7,
     "metadata": {},
     "output_type": "execute_result"
    }
   ],
   "source": [
    "Predictions = Classifier.predict([[age_input,bp_input,al_input,su_input,bgr_input,bu_input,sc_input,sod_input,pot_input,hrmo_input,pcv_input,wc_input,rc_input,sg_b_input,sg_c_input,sg_d_input,sg_e_input,rbc_normal_input,pc_normal_input,pcc_present_input,ba_present_input,htn_yesy_input,dm_yes_input,cad_yes_input,appet_yes_input,pe_yes_input,ane_yes_input]])\n",
    "Predictions"
   ]
  },
  {
   "cell_type": "code",
   "execution_count": null,
   "id": "8febfc07-c9df-4424-812e-23692655ad5e",
   "metadata": {},
   "outputs": [],
   "source": []
  }
 ],
 "metadata": {
  "kernelspec": {
   "display_name": "Python 3 (ipykernel)",
   "language": "python",
   "name": "python3"
  },
  "language_info": {
   "codemirror_mode": {
    "name": "ipython",
    "version": 3
   },
   "file_extension": ".py",
   "mimetype": "text/x-python",
   "name": "python",
   "nbconvert_exporter": "python",
   "pygments_lexer": "ipython3",
   "version": "3.12.4"
  }
 },
 "nbformat": 4,
 "nbformat_minor": 5
}
